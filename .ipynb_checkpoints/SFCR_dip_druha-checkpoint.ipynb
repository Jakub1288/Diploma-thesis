{
 "cells": [
  {
   "cell_type": "code",
   "execution_count": null,
   "id": "bcfe38a7-6423-46a6-adad-a2576cfa7393",
   "metadata": {},
   "outputs": [],
   "source": [
    "import pandas as pd\n",
    "import os # to get ahold of the basic operating system functionalities\n",
    "from glob import glob # to get the filepaths\n",
    "from constance import table_of_contents, sfcr_sections\n",
    "import re # to use regular expressions\n",
    "import pdfplumber #To import text from PDF to pandas Dataframe\n",
    "import numpy as np #To do basic math operation\n",
    "import matplotlib.pyplot as plt # to plot the graphs\n",
    "import pickle # to open and load with pickle\n",
    "import string #To remove punctation\n",
    "import collections\n",
    "\n",
    "pd.options.display.max_colwidth=100"
   ]
  },
  {
   "cell_type": "code",
   "execution_count": null,
   "id": "3f8b6e35-c983-4d25-a5d9-6642b11bf6c1",
   "metadata": {},
   "outputs": [],
   "source": [
    "reporting_years=[2019, 2020, 2021]"
   ]
  },
  {
   "cell_type": "code",
   "execution_count": null,
   "id": "22c5c8bd-108d-4f29-8bce-4f1da5771fca",
   "metadata": {},
   "outputs": [],
   "source": [
    "sfcrs = dict() # Sfcr dict with key reporting_year stores filepaths\n",
    "for reporting_year in reporting_years:\n",
    "    sfcrs[reporting_year] = glob(('\\\\').join([os.path.normpath('C:\\\\Users\\\\jakub\\\\Desktop\\\\PythonPrecinok\\\\NLTK\\\\env\\\\NLTK\\\\Scripts\\\\MLProject'), 'reports', str(reporting_year), '*.pdf']))\n"
   ]
  },
  {
   "cell_type": "code",
   "execution_count": null,
   "id": "8b7756ce-62ad-42c4-8d30-db002f3b1c51",
   "metadata": {},
   "outputs": [],
   "source": [
    "file = 'C:\\\\Users\\\\jakub\\\\Desktop\\\\PythonPrecinok\\\\NLTK\\\\env\\\\NLTK\\\\Scripts\\\\MLProject\\\\' # creating text_splits folder\n",
    "\n",
    "\n",
    "try:\n",
    "    os.mkdir(os.path.normpath(os.path.dirname(file) + '\\\\text_splits'))\n",
    "except OSError:\n",
    "    pass\n",
    "\n"
   ]
  },
  {
   "cell_type": "code",
   "execution_count": null,
   "id": "31a2d0b1-c020-4ff5-afb0-d45f3fb73292",
   "metadata": {},
   "outputs": [],
   "source": [
    "# extracting the text to be stored in dataframes\n",
    "extracted_text = dict()\n",
    "number_of_pages=[]\n",
    "try:\n",
    "    with open ((os.path.normpath(os.path.dirname(file) + '\\\\text_splits\\\\number_of_pages.pkl')), 'rb') as f:\n",
    "            number_of_pages = pickle.load(f)    \n",
    "except FileNotFoundError:\n",
    "    pass\n",
    "for reporting_year in reporting_years:\n",
    "    try:\n",
    "        extracted_text[reporting_year] = pd.read_pickle(os.path.normpath(os.path.dirname(file) + '\\\\text_splits\\\\extracted_text_(' + str(reporting_year) + ').pkl')).fillna(value=np.nan)\n",
    "    except FileNotFoundError:\n",
    "        extracted_text[reporting_year] = pd.DataFrame()\n",
    "        for filepath in sfcrs[reporting_year]:\n",
    "            toc_page = 0\n",
    "            undertaking_code = int(re.findall('\\d+', filepath)[-1])\n",
    "            with pdfplumber.open(filepath) as pdf_file:\n",
    "                try:\n",
    "                    number_of_pages.append(len(pdf_file.pages))\n",
    "                    for page in pdf_file.pages:\n",
    "                        if re.search(table_of_contents['cz'].replace(' ', '.*'), page.extract_text(), re.IGNORECASE):\n",
    "                            toc_page = page.page_number - 1 #If the text is found- in table_of_contents['cz'], the page number is stored in the toc_page variable and the loop is broken.\n",
    "                            break\n",
    "                except TypeError:\n",
    "                    pass\n",
    "                actual_page = toc_page\n",
    "                if toc_page:\n",
    "                    toc_numbers = re.findall('\\d+', pdf_file.pages[toc_page].extract_text(), flags=re.IGNORECASE) #This part of the code is checking the page numbers listed in the table of contents, and using the last page number listed to determine the starting page for processing the text in the PDF file.\n",
    "                    if toc_numbers and (int(toc_numbers[-1])-1 <= toc_page):\n",
    "                        actual_page = int(toc_numbers[-1])-1\n",
    "                try:\n",
    "                    for page in pdf_file.pages[actual_page:]:\n",
    "                        extracted_text[reporting_year].at[actual_page, undertaking_code] = page.extract_text()\n",
    "                        actual_page += 1\n",
    "                except TypeError:\n",
    "                    pass\n",
    "        for undertaking_code in extracted_text[reporting_year]:\n",
    "            if ((extracted_text[reporting_year][undertaking_code].values == '').sum() + extracted_text[reporting_year][undertaking_code].isna().sum()) == len(extracted_text[reporting_year].index):\n",
    "                extracted_text[reporting_year].drop(undertaking_code, axis=1, inplace=True)\n",
    "        extracted_text[reporting_year].to_pickle(os.path.normpath(os.path.dirname(file) + '\\\\text_splits\\\\extracted_text_(' + str(reporting_year) + ').pkl'))\n",
    "\n",
    "with open((os.path.normpath(os.path.dirname(file) + '\\\\text_splits\\\\number_of_pages.pkl')),'wb')  as f:\n",
    "    pickle.dump(number_of_pages, f)    #If we run this cell pickle will overwrite this again by same pickle    \n",
    "print(number_of_pages)"
   ]
  },
  {
   "cell_type": "code",
   "execution_count": null,
   "id": "6a7ab02f-e8a8-4cb2-a214-050e9b785624",
   "metadata": {},
   "outputs": [],
   "source": [
    "#Making dictionary with quant features and target feature\n",
    "quantitative_feature_str = {}\n",
    "\n",
    "for reporting_year in reporting_years:\n",
    "    file_path = \"Quantitative_features.xlsx\" # Construct the file path\n",
    "    \n",
    "    quantitative_feature_str[reporting_year] = pd.read_excel(file_path, sheet_name=str(reporting_year)) # Load the sheet with the given reporting year into a dataframe\n",
    "    quantitative_feature_str[reporting_year]=quantitative_feature_str[reporting_year].drop(columns='Solvency_ratio_from_next_year')\n",
    "    quantitative_feature_str[reporting_year].set_index('Pojistovna_ID', inplace=True)\n",
    "    "
   ]
  },
  {
   "cell_type": "code",
   "execution_count": null,
   "id": "6830a861-9552-4821-a1f5-f47d4785810d",
   "metadata": {},
   "outputs": [],
   "source": [
    "#Deleting the features thata have more then 40% of NaN values\n",
    "import warnings\n",
    "warnings.filterwarnings('ignore')\n",
    "\n",
    "quantitative_feature_all_years = pd.DataFrame(columns=quantitative_feature_str[reporting_years[0]].columns) \n",
    "\n",
    "for reporting_year in reporting_years:\n",
    "    df_temp = quantitative_feature_str[reporting_year] #temporary dataframe for each reporting year\n",
    "    quantitative_feature_all_years = quantitative_feature_all_years.append(df_temp) #merge all the years together\n",
    "\n",
    "percentage_nan_values_all_years = quantitative_feature_all_years.isna().mean(axis=0) * 100\n",
    "\n",
    "columns_to_drop = percentage_nan_values_all_years[percentage_nan_values_all_years > 40].index.tolist()\n",
    "for reporting_year in reporting_years:\n",
    "    quantitative_feature_str[reporting_year] = quantitative_feature_str[reporting_year].drop(columns=columns_to_drop) #dropping columns\n"
   ]
  },
  {
   "cell_type": "code",
   "execution_count": null,
   "id": "4c4e920d-9396-40b9-acdf-ad62ae40f663",
   "metadata": {},
   "outputs": [],
   "source": [
    "#Getting the list of quantitative columns to be use later in mixed model\n",
    "columns_of_quant_features = list(quantitative_feature_str[next(iter(quantitative_feature_str))].columns) \n",
    "print(columns_of_quant_features)\n"
   ]
  },
  {
   "cell_type": "code",
   "execution_count": null,
   "id": "790b8507-2a65-4ecd-ba7a-9a8bd29ee0ff",
   "metadata": {},
   "outputs": [],
   "source": [
    "#Creating full_text dataframe that merge all the reporting years together and also joining text and quantitative features\n",
    "full_only_text = pd.DataFrame(columns=['Undertaking Code', 'Text'])\n",
    "\n",
    "for year, values in extracted_text.items():\n",
    "    if year in quantitative_feature_str.keys():  # check if there are quantitative features for this year\n",
    "        df_qf = quantitative_feature_str[year]  # get the quantitative feature dataframe for this year\n",
    "        for undertaking_code, texts in values.items():\n",
    "            texts = [str(text) for text in texts]\n",
    "            if undertaking_code in df_qf.index:  # check if there are quantitative features for this undertaking code\n",
    "                row = {'Undertaking Code': str(undertaking_code) + '_' + str(year), 'Text': \" \".join(texts)}\n",
    "                row.update(df_qf.loc[undertaking_code].to_dict())  # add quantitative features to the row\n",
    "                full_only_text = full_only_text.append(row, ignore_index=True)\n",
    "\n",
    "full_text = full_only_text.set_index('Undertaking Code')"
   ]
  },
  {
   "cell_type": "code",
   "execution_count": null,
   "id": "d3c39a9e-7bb8-420d-9a92-87779f38cd65",
   "metadata": {},
   "outputs": [],
   "source": [
    "full_text_train=full_text.iloc[:48,]"
   ]
  },
  {
   "cell_type": "code",
   "execution_count": null,
   "id": "fcbd4ccc-113a-4e1d-8e1c-c9b9f32ce26c",
   "metadata": {},
   "outputs": [],
   "source": [
    "full_text[columns_of_quant_features] = full_text[columns_of_quant_features].fillna(full_text_train[columns_of_quant_features].mean()) #Filling missing values in indicator columns by mean"
   ]
  },
  {
   "cell_type": "code",
   "execution_count": null,
   "id": "8bc68791-ec86-47f4-b3b4-38b14eebefe2",
   "metadata": {},
   "outputs": [],
   "source": [
    "with open('stopwords.txt', 'r', encoding='UTF-8') as file_stopwords:\n",
    "    text = file_stopwords.read()\n",
    "\n",
    "stop_words = text.split()"
   ]
  },
  {
   "cell_type": "code",
   "execution_count": null,
   "id": "838d0448-7eca-4a61-9c89-2bc7edc67356",
   "metadata": {},
   "outputs": [],
   "source": [
    "import nltk\n",
    "#nltk.download('punkt')\n",
    "\n",
    "\n",
    "#Remove Punctation\n",
    "def remove_punctuation(txt):\n",
    "    text_nopunct =\"\".join([c for c in txt if c not in string.punctuation])\n",
    "    return text_nopunct\n",
    "\n",
    "#Tokenize text using nltk library\n",
    "def tokenize(txt):\n",
    "    tokens = nltk.word_tokenize(txt)\n",
    "    return tokens\n",
    "\n",
    "#Remove tokens that include numbers\n",
    "def to_lower(tokens):\n",
    "    lower_letters = [token.lower() for token in tokens]\n",
    "    return lower_letters\n",
    "\n",
    "#Remove words with less than 3 letters and including numbers\n",
    "def remove_short(tokens):\n",
    "    text_no_stop = [token for token in tokens if (len(token) > 2) and (not any(char.isdigit() for char in token))]\n",
    "    return text_no_stop\n",
    "\n",
    "#Remove stopwords stored in txt file\n",
    "def remove_stopwords(tokens, stop_words):\n",
    "    text_no_stop=[token for token in tokens if token not in stop_words]\n",
    "    return text_no_stop\n",
    "\n",
    "def first_five_letters(token_list):\n",
    "    first_five = [token[:5] for token in token_list] \n",
    "    return first_five"
   ]
  },
  {
   "cell_type": "code",
   "execution_count": null,
   "id": "8d570783-4b8b-48f4-98b7-d3b176c2f22c",
   "metadata": {},
   "outputs": [],
   "source": [
    "full_text['Text_nopunct']=full_text['Text'].apply(lambda x: remove_punctuation(x))"
   ]
  },
  {
   "cell_type": "code",
   "execution_count": null,
   "id": "56b9b3eb-0499-4518-a6d2-6280a99ba941",
   "metadata": {},
   "outputs": [],
   "source": [
    "full_text['Text_tokenized']=full_text['Text_nopunct'].apply(lambda x: tokenize(x))"
   ]
  },
  {
   "cell_type": "code",
   "execution_count": null,
   "id": "765bb64f-87ea-4308-a8ac-1dc223b4b94c",
   "metadata": {},
   "outputs": [],
   "source": [
    "full_text['lower_only']=full_text['Text_tokenized'].apply(lambda x: to_lower(x))"
   ]
  },
  {
   "cell_type": "code",
   "execution_count": null,
   "id": "823bbf3b-49f8-4eda-8fb4-f35923afec39",
   "metadata": {},
   "outputs": [],
   "source": [
    "full_text['No_single_letter']=full_text['lower_only'].apply(lambda x: remove_short(x))"
   ]
  },
  {
   "cell_type": "code",
   "execution_count": null,
   "id": "f102aa6b-a952-4d4e-9a66-8a8017263316",
   "metadata": {},
   "outputs": [],
   "source": [
    "full_text['No_stop_words']=full_text['No_single_letter'].apply(lambda x: remove_stopwords(x, stop_words))"
   ]
  },
  {
   "cell_type": "code",
   "execution_count": null,
   "id": "3f57cf52-26f3-4389-a7de-c4887901cc44",
   "metadata": {},
   "outputs": [],
   "source": [
    "full_text[\"five_letters\"] = full_text[\"No_stop_words\"].apply(lambda x: first_five_letters(x))"
   ]
  },
  {
   "cell_type": "code",
   "execution_count": null,
   "id": "5c59ba2d-1643-4700-81a6-9eb776de402c",
   "metadata": {},
   "outputs": [],
   "source": [
    "text_list = full_text[\"five_letters\"].apply(lambda x: \" \".join(x)).tolist()"
   ]
  },
  {
   "cell_type": "code",
   "execution_count": null,
   "id": "566f1bd8-c861-4895-827a-e3d3bb6b23a6",
   "metadata": {},
   "outputs": [],
   "source": [
    "text_no_stop_five_lett = ' '.join(text_list)\n",
    "\n",
    "words = text_no_stop_five_lett.split() # Split the string into words\n",
    "\n",
    "unique_words = set(words)"
   ]
  },
  {
   "cell_type": "code",
   "execution_count": null,
   "id": "18d14711-2196-45d6-9cad-47852445e916",
   "metadata": {},
   "outputs": [],
   "source": [
    "words = text_no_stop_five_lett.split() # Split the string into words\n",
    "word_counts = collections.Counter(words) # Count the occurrences of each word\n",
    "\n",
    "#print(word_counts)\n",
    "one_word_occurrence = [word for word, count in word_counts.items() if count == 1]"
   ]
  },
  {
   "cell_type": "code",
   "execution_count": null,
   "id": "e59aa9ee-db77-4eee-992c-2b871e88a627",
   "metadata": {},
   "outputs": [],
   "source": [
    "text_list_ready=[]\n",
    "for text in text_list:\n",
    "    words = text.split()\n",
    "    filtered_words = [word for word in words if word not in one_word_occurrence]\n",
    "    filtered_text = ' '.join(filtered_words)\n",
    "    text_list_ready.append(filtered_text)"
   ]
  },
  {
   "cell_type": "code",
   "execution_count": null,
   "id": "6ebeaa6f-116b-4cc4-9dbf-a7665be4052e",
   "metadata": {},
   "outputs": [],
   "source": [
    "from sklearn.feature_extraction.text import TfidfVectorizer\n",
    "\n",
    "tfidf = TfidfVectorizer(ngram_range=(3,3))\n",
    "tfidf.fit(text_list_ready) # Fit the vectorizer to the text data\n",
    "tfidf_matrix = tfidf.transform(text_list_ready) # Transform the text data into a TF-IDF matrix\n",
    "\n",
    "tfidf_df = pd.DataFrame(tfidf_matrix.toarray(), columns=tfidf.get_feature_names(), index=full_text.index) # Convert the matrix to a DataFrame"
   ]
  },
  {
   "cell_type": "code",
   "execution_count": null,
   "id": "0e574326-38bf-4117-9015-4f8583d300fe",
   "metadata": {},
   "outputs": [],
   "source": [
    "tfidf_df_final = tfidf_df.join(full_text[columns_of_quant_features])"
   ]
  },
  {
   "cell_type": "code",
   "execution_count": null,
   "id": "c731f76e-02bd-45cc-b897-e7d1fccb5f13",
   "metadata": {},
   "outputs": [],
   "source": [
    "tfidf_df_final_test=tfidf_df_final.iloc[48:,]"
   ]
  },
  {
   "cell_type": "code",
   "execution_count": null,
   "id": "4fe38e03-7d51-4a5e-ad35-bbca8f477c64",
   "metadata": {},
   "outputs": [],
   "source": [
    "tfidf_df_final=tfidf_df_final.iloc[:48,]"
   ]
  },
  {
   "cell_type": "code",
   "execution_count": null,
   "id": "b1330e7f-29bf-4a43-ab83-35dd7d31464e",
   "metadata": {},
   "outputs": [],
   "source": [
    "subset_text_list_ready = text_list_ready[:48] # Get the subset of text data for the first 48 rows\n",
    "subset_tfidf_matrix = tfidf.transform(subset_text_list_ready) # Transform the subset of text data into a TF-IDF matrix\n",
    "\n",
    "subset_tfidf_df = pd.DataFrame(subset_tfidf_matrix.toarray(), columns=tfidf.get_feature_names()) # Convert the matrix to a DataFrame\n"
   ]
  },
  {
   "cell_type": "code",
   "execution_count": null,
   "id": "b57967ba-990d-476a-94fd-80c7aeba094e",
   "metadata": {},
   "outputs": [],
   "source": [
    "subset_tfidf_matrix"
   ]
  },
  {
   "cell_type": "code",
   "execution_count": null,
   "id": "3913dc09-b6c5-4f18-85b7-caa4734b80af",
   "metadata": {},
   "outputs": [],
   "source": [
    "X = tfidf_df_final[tfidf_df_final.columns.difference(['Solvency_ratio_bucket'])]\n",
    "y = tfidf_df_final['Solvency_ratio_bucket']\n",
    "\n",
    "y.value_counts()"
   ]
  },
  {
   "cell_type": "code",
   "execution_count": null,
   "id": "3a0cee79-cd62-43c7-9ba8-1712be18a1cf",
   "metadata": {},
   "outputs": [],
   "source": [
    "X_test = tfidf_df_final_test[tfidf_df_final_test.columns.difference(['Solvency_ratio_bucket'])]\n",
    "y_test = tfidf_df_final_test['Solvency_ratio_bucket']\n",
    "\n",
    "y_test.value_counts()"
   ]
  },
  {
   "cell_type": "code",
   "execution_count": null,
   "id": "26be4f7a-e77d-4464-9688-df29967eec21",
   "metadata": {},
   "outputs": [],
   "source": [
    "X"
   ]
  },
  {
   "cell_type": "markdown",
   "id": "0af79f63-2b39-4f6d-bf55-ac35d9dc6347",
   "metadata": {},
   "source": [
    "## Logistic regression"
   ]
  },
  {
   "cell_type": "code",
   "execution_count": null,
   "id": "76a5fb6c-9aa4-4f16-a8d7-c2c09216d065",
   "metadata": {},
   "outputs": [],
   "source": [
    "from sklearn.linear_model import LogisticRegression\n",
    "from sklearn.model_selection import cross_val_score, GridSearchCV\n",
    "from sklearn.model_selection import LeaveOneOut\n",
    "\n",
    "lr = LogisticRegression()\n",
    "\n",
    "param_grid = {'penalty': [ 'none', 'l1', 'l2', 'elasticnet'], 'C': [ 0.1, 1, 2, 3, 4, 10], 'solver':[ 'lbfgs' ,'liblinear'] }\n",
    "\n",
    "grid_search = GridSearchCV(lr, param_grid, cv=LeaveOneOut())\n",
    "\n",
    "grid_search.fit(X, y)\n",
    "\n",
    "# Print the best hyperparameters found\n",
    "print(\"Best hyperparameters:\", grid_search.best_params_)\n",
    "\n",
    "# Evaluate the model's performance with cross-validation\n",
    "accuracy_scores = cross_val_score(grid_search.best_estimator_, X, y, cv=LeaveOneOut())\n",
    "\n",
    "# Print the mean and standard deviation of the accuracy scores\n",
    "print(\"Accuracy score:\", accuracy_scores)\n",
    "print(\"Mean accuracy:\", np.mean(accuracy_scores))\n",
    "print(\"Accuracy std:\", np.std(accuracy_scores))"
   ]
  },
  {
   "cell_type": "code",
   "execution_count": null,
   "id": "cdfeeff4-9730-4aba-a786-49166ec8360c",
   "metadata": {},
   "outputs": [],
   "source": [
    "y_pred = grid_search.best_estimator_.predict(X_test)\n",
    "\n",
    "from sklearn.metrics import accuracy_score\n",
    "accuracy = accuracy_score(y_test, y_pred)\n",
    "\n",
    "print(\"Accuracy on testing data:\", accuracy)"
   ]
  },
  {
   "cell_type": "markdown",
   "id": "2dcc7175-e01e-46e8-a6d9-bb9999a00805",
   "metadata": {},
   "source": [
    "## KNN"
   ]
  },
  {
   "cell_type": "code",
   "execution_count": null,
   "id": "b4d03499-2f6a-41f1-b8fb-6ca9e743b2bc",
   "metadata": {},
   "outputs": [],
   "source": [
    "from sklearn.neighbors import KNeighborsClassifier\n",
    "\n",
    "knn= KNeighborsClassifier()\n",
    "\n",
    "param_grid = {'n_neighbors': [2, 3, 4, 5, 6, 7, 8, 9, 13, 21, 34], 'weights': ['uniform', 'distance'], 'p': [1, 2, 3]}\n",
    "\n",
    "grid_search = GridSearchCV(knn, param_grid, cv=LeaveOneOut())\n",
    "\n",
    "grid_search.fit(X, y)\n",
    "\n",
    "print(\"Best hyperparameters:\", grid_search.best_params_)\n",
    "\n",
    "accuracy_scores = cross_val_score(grid_search.best_estimator_, X, y, cv=LeaveOneOut())\n",
    "\n",
    "\n",
    "print(\"Accuracy score:\", accuracy_scores)\n",
    "print(\"Mean accuracy:\", np.mean(accuracy_scores))\n",
    "print(\"Accuracy std:\", np.std(accuracy_scores))"
   ]
  },
  {
   "cell_type": "code",
   "execution_count": null,
   "id": "6f51304d-49ab-4eea-a11e-cc673e64d5e8",
   "metadata": {},
   "outputs": [],
   "source": [
    "y_pred = grid_search.best_estimator_.predict(X_test)\n",
    "\n",
    "from sklearn.metrics import accuracy_score\n",
    "accuracy = accuracy_score(y_test, y_pred)\n",
    "\n",
    "print(\"Accuracy on testing data:\", accuracy)"
   ]
  },
  {
   "cell_type": "markdown",
   "id": "d6fe0760-e60e-4dac-b88b-8efc575547f2",
   "metadata": {},
   "source": [
    "## SVM"
   ]
  },
  {
   "cell_type": "code",
   "execution_count": null,
   "id": "eebeb0d1-6df7-47b0-9d58-b35e69360682",
   "metadata": {},
   "outputs": [],
   "source": [
    "from sklearn.model_selection import cross_val_score\n",
    "from sklearn.svm import SVC\n",
    "from sklearn.metrics import accuracy_score, make_scorer\n",
    "\n",
    "\n",
    "svm_model = SVC(kernel='linear')  \n",
    "svm_model.fit(X, y)\n",
    "\n",
    "\n",
    "accuracy = make_scorer(accuracy_score)\n",
    "accuracy_scores = cross_val_score(svm_model, X, y, scoring = accuracy, cv = 7)\n",
    "\n",
    "\n",
    "print(\"accuracy score:\", accuracy_scores)\n",
    "print(\"accuracy score:\", accuracy_scores.mean())\n",
    "print(\"Accuracy std:\", np.std(accuracy_scores))\n"
   ]
  },
  {
   "cell_type": "code",
   "execution_count": null,
   "id": "f14b8801-eca2-4592-8b3e-d2d1ac836b7d",
   "metadata": {},
   "outputs": [],
   "source": [
    "#Selecting only best 80% of features\n",
    "features_coef = dict(zip(list(tfidf.get_feature_names()) + list(full_text[columns_of_quant_features].columns), list(svm_model.coef_[0]) + [0]*len(columns_of_quant_features))) # get feature names and coefficients, features must be from tfidf and also connected with quantitative variables\n",
    "top_features = sorted(features_coef.items(), key=lambda x: abs(x[1]), reverse=True)[:int(len(features_coef)*0.8)] # sort by absolute coefficient value and select top X %\n",
    "top_feature_names = [x[0] for x in top_features] # extract top feature names\n",
    "\n",
    "\n",
    "X_train_top_x = X[top_feature_names] # subset the data to include only top X % features\n",
    "\n"
   ]
  },
  {
   "cell_type": "code",
   "execution_count": null,
   "id": "6cfc243f-7f7b-4d29-a5a6-46adf6853162",
   "metadata": {},
   "outputs": [],
   "source": [
    "from sklearn.neighbors import KNeighborsClassifier\n",
    "\n",
    "svm= SVC()\n",
    "\n",
    "param_grid = {'C': [0.1, 1, 5, 10, 100], 'kernel': ['linear', 'rbf', 'poly', 'sigmoid'], 'gamma': ['scale', 'auto', 0.1, 1, 10]}\n",
    "grid_search = GridSearchCV(svm, param_grid, cv=LeaveOneOut(), verbose=1)\n",
    "\n",
    "grid_search.fit(X_train_top_x, y)\n",
    "\n",
    "print(\"Best hyperparameters:\", grid_search.best_params_)\n",
    "\n",
    "accuracy_scores = cross_val_score(grid_search.best_estimator_, X_train_top_x, y, cv=LeaveOneOut())\n",
    "\n",
    "\n",
    "print(\"Accuracy score:\", accuracy_scores)\n",
    "print(\"Mean accuracy:\", np.mean(accuracy_scores))\n",
    "print(\"Accuracy std:\", np.std(accuracy_scores))"
   ]
  },
  {
   "cell_type": "code",
   "execution_count": null,
   "id": "3de1de22-d54f-4310-8202-626969a76845",
   "metadata": {},
   "outputs": [],
   "source": [
    "y_pred = grid_search.best_estimator_.predict(X_test[top_feature_names])\n",
    "\n",
    "from sklearn.metrics import accuracy_score\n",
    "accuracy = accuracy_score(y_test, y_pred)\n",
    "\n",
    "print(\"Accuracy on testing data:\", accuracy)"
   ]
  },
  {
   "cell_type": "markdown",
   "id": "209d2240-effa-4ab1-a9a2-f9970569169f",
   "metadata": {},
   "source": [
    "## Rozhodovací stromy"
   ]
  },
  {
   "cell_type": "code",
   "execution_count": null,
   "id": "4bed8d47-a940-43ac-a4c0-5d14fb2f66e2",
   "metadata": {},
   "outputs": [],
   "source": [
    "from sklearn.tree import DecisionTreeClassifier\n",
    "\n",
    "\n",
    "\n",
    "# Initialize the decision tree classifier\n",
    "dtc = DecisionTreeClassifier(random_state=42)\n",
    "\n",
    "accuracy = make_scorer(accuracy_score)\n",
    "\n",
    "accuracy_scores = cross_val_score(dtc, X, y, scoring=accuracy, cv=7)\n",
    "\n",
    "# Print the mean and standard deviation of the accuracy scores\n",
    "print(\"Accuracy score:\", accuracy_scores)\n",
    "print(\"Accuracy score:\", accuracy_scores.mean())\n",
    "print(\"Accuracy std:\", np.std(accuracy_scores))\n"
   ]
  },
  {
   "cell_type": "code",
   "execution_count": null,
   "id": "f79beb81-1723-41d1-9d37-6df11ded8eb4",
   "metadata": {},
   "outputs": [],
   "source": [
    "from sklearn.feature_selection import SelectFromModel\n",
    "\n",
    "dtc.fit(X, y)\n",
    "importances = dtc.feature_importances_\n",
    "\n",
    "\n",
    "sorted_idx = np.argsort(importances)[::-1] # Get indices of the top features sorted in descending order of importance\n",
    "\n",
    "n_features = len(importances)\n",
    "n_keep = int(n_features * 0.2) # Compute the number of features to keep\n",
    "\n",
    "top_idx = sorted_idx[:n_keep] # Get the indices of the top n_keep features\n",
    "\n",
    "X_dtc_top_X = X.iloc[:, top_idx]\n",
    "\n",
    "print(f\"Original number of features: {n_features}\")\n",
    "print(f\"Number of features to keep: {n_keep}\")\n"
   ]
  },
  {
   "cell_type": "code",
   "execution_count": null,
   "id": "eacc55aa-d4f2-4d02-adfe-d5902a96f815",
   "metadata": {},
   "outputs": [],
   "source": [
    "from sklearn.tree import DecisionTreeClassifier\n",
    "\n",
    "dt= DecisionTreeClassifier(random_state=42)\n",
    "\n",
    "param_grid = {'criterion': ['gini', 'entropy', 'log_loss'], 'max_depth': [None, 5, 10, 15, 30], 'min_samples_split': [2, 5, 10], 'min_samples_leaf': [1, 2, 4, 8], 'max_features': [None, 'sqrt', 'log2']}\n",
    "grid_search = GridSearchCV(dt, param_grid, cv=LeaveOneOut(), verbose=1)\n",
    "\n",
    "grid_search.fit(X_dtc_top_X, y)\n",
    "\n",
    "print(\"Best hyperparameters:\", grid_search.best_params_)\n",
    "\n",
    "accuracy_scores = cross_val_score(grid_search.best_estimator_, X_dtc_top_X, y, cv=LeaveOneOut())\n",
    "\n",
    "\n",
    "print(\"Accuracy score:\", accuracy_scores)\n",
    "print(\"Mean accuracy:\", np.mean(accuracy_scores))\n",
    "print(\"Accuracy std:\", np.std(accuracy_scores))"
   ]
  },
  {
   "cell_type": "code",
   "execution_count": null,
   "id": "1f64af5f-b10a-4e2c-9915-3f3d937a2ec2",
   "metadata": {},
   "outputs": [],
   "source": [
    "y_pred = grid_search.best_estimator_.predict(X_test.iloc[:, top_idx])\n",
    "\n",
    "from sklearn.metrics import accuracy_score\n",
    "accuracy = accuracy_score(y_test, y_pred)\n",
    "\n",
    "print(\"Accuracy on testing data:\", accuracy)"
   ]
  },
  {
   "cell_type": "markdown",
   "id": "5c94da99-7103-4b25-abd7-7f1eccfc2e3f",
   "metadata": {},
   "source": [
    "## Naive Bayes, Feature selection"
   ]
  },
  {
   "cell_type": "code",
   "execution_count": null,
   "id": "70e8242c-ce9f-4529-9697-c77978333ab4",
   "metadata": {},
   "outputs": [],
   "source": [
    "from sklearn.feature_selection import SelectPercentile, f_classif\n",
    "\n",
    "\n",
    "percentile = 50 # Select the top X % of features based on ANOVA F-value\n",
    "selector = SelectPercentile(f_classif, percentile=percentile)\n",
    "selector.fit(subset_tfidf_matrix, y)\n",
    "tfidf_selected = selector.transform(tfidf_matrix)"
   ]
  },
  {
   "cell_type": "code",
   "execution_count": null,
   "id": "9d5111ba-0a22-4b31-a2bd-b8864ff764e4",
   "metadata": {},
   "outputs": [],
   "source": [
    "selected_indices = selector.get_support(indices=True) # Get the indices of the selected features"
   ]
  },
  {
   "cell_type": "code",
   "execution_count": null,
   "id": "00a75e52-8f48-40a5-b9f1-9d416e5b3186",
   "metadata": {},
   "outputs": [],
   "source": [
    "tfidf_df_selected = tfidf_df.iloc[:, selected_indices]\n",
    "tfidf_df_final = tfidf_df_selected.join(full_text[columns_of_quant_features])"
   ]
  },
  {
   "cell_type": "code",
   "execution_count": null,
   "id": "c8193729-e340-4e5e-8243-a88c98776017",
   "metadata": {},
   "outputs": [],
   "source": [
    "tfidf_df_final"
   ]
  },
  {
   "cell_type": "code",
   "execution_count": null,
   "id": "90d0dd92-7e60-4bfe-aa38-48074b79cc0e",
   "metadata": {},
   "outputs": [],
   "source": [
    "tfidf_df_final_test=tfidf_df_final.iloc[48:,]"
   ]
  },
  {
   "cell_type": "code",
   "execution_count": null,
   "id": "3238fd14-4aed-4a86-a30d-22df3f060027",
   "metadata": {},
   "outputs": [],
   "source": [
    "tfidf_df_final=tfidf_df_final.iloc[:48,]"
   ]
  },
  {
   "cell_type": "code",
   "execution_count": null,
   "id": "2bd84a69-215e-4bc1-a949-9e78c33e01ba",
   "metadata": {},
   "outputs": [],
   "source": [
    "tfidf_df_final"
   ]
  },
  {
   "cell_type": "code",
   "execution_count": null,
   "id": "a86f6b4b-1d97-4980-8cc2-e0d75eff18af",
   "metadata": {},
   "outputs": [],
   "source": [
    "X = tfidf_df_final[tfidf_df_final.columns.difference(['Solvency_ratio_bucket'])]\n",
    "y = tfidf_df_final['Solvency_ratio_bucket']\n",
    "\n",
    "y.value_counts()"
   ]
  },
  {
   "cell_type": "code",
   "execution_count": null,
   "id": "f5d459c6-4608-4f57-b779-0f785da3ff14",
   "metadata": {},
   "outputs": [],
   "source": [
    "X_test = tfidf_df_final_test[tfidf_df_final_test.columns.difference(['Solvency_ratio_bucket'])]\n",
    "y_test = tfidf_df_final_test['Solvency_ratio_bucket']\n",
    "\n",
    "y_test.value_counts()"
   ]
  },
  {
   "cell_type": "code",
   "execution_count": null,
   "id": "68ae2d1e-6191-4c1f-835b-8dc5930a4b1b",
   "metadata": {},
   "outputs": [],
   "source": [
    "from sklearn.naive_bayes import GaussianNB\n",
    "\n",
    "nb=GaussianNB()  \n",
    "\n",
    "param_grid = {'var_smoothing': [1e-9, 1e-8, 1e-7, 1e-6, 1e-5]}\n",
    "grid_search = GridSearchCV(nb, param_grid, cv=LeaveOneOut(), verbose=1)\n",
    "\n",
    "grid_search.fit(X, y)\n",
    "\n",
    "print(\"Best hyperparameters:\", grid_search.best_params_)\n",
    "\n",
    "accuracy_scores = cross_val_score(grid_search.best_estimator_, X, y, cv=LeaveOneOut())\n",
    "\n",
    "\n",
    "print(\"Accuracy score:\", accuracy_scores)\n",
    "print(\"Mean accuracy:\", np.mean(accuracy_scores))\n",
    "print(\"Accuracy std:\", np.std(accuracy_scores))"
   ]
  },
  {
   "cell_type": "code",
   "execution_count": null,
   "id": "ca307df9-3cfc-43e4-b40c-f6846e36465c",
   "metadata": {},
   "outputs": [],
   "source": [
    "y_pred = grid_search.best_estimator_.predict(X_test)\n",
    "\n",
    "from sklearn.metrics import accuracy_score\n",
    "accuracy = accuracy_score(y_test, y_pred)\n",
    "\n",
    "print(\"Accuracy on testing data:\", accuracy)"
   ]
  },
  {
   "cell_type": "markdown",
   "id": "05a32618-6b16-4b45-b1af-54cf9e1b04f3",
   "metadata": {},
   "source": [
    "## Neural network"
   ]
  },
  {
   "cell_type": "code",
   "execution_count": null,
   "id": "b40ce464-4c4e-474b-b3b7-3e397d57af4a",
   "metadata": {},
   "outputs": [],
   "source": [
    "from keras.wrappers.scikit_learn import KerasClassifier\n",
    "from sklearn.model_selection import GridSearchCV, LeaveOneOut\n",
    "from tensorflow import keras\n",
    "\n",
    "# Define the Keras model builder function\n",
    "def create_model(optimizer='adam', activation='relu', hidden1=128, hidden2=64):\n",
    "    model = keras.Sequential([\n",
    "        keras.layers.Dense(hidden1, activation=activation, input_shape=(X.shape[1],)),\n",
    "        keras.layers.Dense(hidden2, activation=activation),\n",
    "        keras.layers.Dense(1, activation='sigmoid')\n",
    "    ])\n",
    "    model.compile(optimizer=optimizer, loss='binary_crossentropy', metrics=['accuracy'])\n",
    "    return model\n",
    "\n",
    "# Create the Keras classifier object\n",
    "keras_clf = KerasClassifier(build_fn=create_model)\n",
    "\n",
    "# Define the parameter grid\n",
    "param_grid = param_grid = {'batch_size': [64, 128], 'epochs': [5, 10], 'optimizer': ['adam', 'sgd'], 'activation': ['relu', 'tanh'], 'hidden1': [64, 128], 'hidden2': [64]}\n",
    "\n",
    "# Set up the grid search\n",
    "grid_search = GridSearchCV(estimator=keras_clf, param_grid=param_grid, cv=LeaveOneOut(), verbose=1)\n",
    "\n",
    "# Fit the grid search to the data\n",
    "grid_search.fit(X, y)\n",
    "\n",
    "# Print the best parameters and accuracy\n",
    "print(\"Best parameters:\", grid_search.best_params_)\n",
    "print(\"Accuracy score:\", grid_search.best_score_)\n"
   ]
  },
  {
   "cell_type": "code",
   "execution_count": null,
   "id": "c8d5bfb8-eef5-4c77-a701-2378db82c98a",
   "metadata": {},
   "outputs": [],
   "source": [
    "y_pred = grid_search.best_estimator_.predict(X_test)\n",
    "\n",
    "from sklearn.metrics import accuracy_score\n",
    "accuracy = accuracy_score(y_test, y_pred)\n",
    "\n",
    "print(\"Accuracy on testing data:\", accuracy)"
   ]
  },
  {
   "cell_type": "code",
   "execution_count": null,
   "id": "ec6a0956-75ee-4218-9313-7c73fb063bc7",
   "metadata": {},
   "outputs": [],
   "source": []
  }
 ],
 "metadata": {
  "kernelspec": {
   "display_name": "Python 3 (ipykernel)",
   "language": "python",
   "name": "python3"
  },
  "language_info": {
   "codemirror_mode": {
    "name": "ipython",
    "version": 3
   },
   "file_extension": ".py",
   "mimetype": "text/x-python",
   "name": "python",
   "nbconvert_exporter": "python",
   "pygments_lexer": "ipython3",
   "version": "3.8.6"
  }
 },
 "nbformat": 4,
 "nbformat_minor": 5
}
