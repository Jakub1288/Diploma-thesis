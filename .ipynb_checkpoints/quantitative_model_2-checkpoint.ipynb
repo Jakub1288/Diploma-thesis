{
 "cells": [
  {
   "cell_type": "code",
   "execution_count": 1,
   "id": "92e5452b-67fa-4f7f-a44f-b5b34668c718",
   "metadata": {},
   "outputs": [],
   "source": [
    "import pandas as pd\n",
    "import numpy as np\n",
    "import matplotlib.pyplot as plt\n",
    "from sklearn.neighbors import KNeighborsClassifier\n",
    "from sklearn.model_selection import train_test_split\n",
    "from sklearn.svm import SVC \n",
    "from sklearn.metrics import f1_score, accuracy_score, precision_score, recall_score, classification_report, confusion_matrix, plot_confusion_matrix\n"
   ]
  },
  {
   "cell_type": "code",
   "execution_count": 2,
   "id": "5032202f-c8ea-47d8-91d1-d540cc61cbfa",
   "metadata": {},
   "outputs": [],
   "source": [
    "df_quan_model=pd.read_excel(\"Quantitative_features.xlsx\", sheet_name=3)"
   ]
  },
  {
   "cell_type": "code",
   "execution_count": 3,
   "id": "39f1d7fd-1752-4310-a14c-67680f9a90d9",
   "metadata": {},
   "outputs": [],
   "source": [
    "df_quan_model=df_quan_model.drop(columns=['Solvency_ratio_from_next_year',' Pojistovna_ID'])"
   ]
  },
  {
   "cell_type": "code",
   "execution_count": 7,
   "id": "bf0c418e-8e25-4685-a895-49df29584f39",
   "metadata": {},
   "outputs": [
    {
     "name": "stdout",
     "output_type": "stream",
     "text": [
      "Percentage of NaN values in column Indicator_80 : 24.074074074074073\n",
      "Percentage of NaN values in column Indicator_72 : 50.0\n",
      "Percentage of NaN values in column Indicator_74 : 0.0\n",
      "Percentage of NaN values in column Indicator_109 : 0.0\n",
      "Percentage of NaN values in column Indicator_65 : 42.592592592592595\n",
      "Percentage of NaN values in column Indicator_48 : 44.44444444444444\n",
      "Percentage of NaN values in column Indicator_118 : 66.66666666666666\n",
      "Percentage of NaN values in column Indicator_30 : 40.74074074074074\n",
      "Percentage of NaN values in column Solvency_ratio_bucket : 0.0\n"
     ]
    }
   ],
   "source": [
    " columns_to_drop=[] #Seting column names to drop based on NaN percentage into list\n",
    "for column in df_quan_model.columns:\n",
    "    percentage_nan_values = df_quan_model[column].isna().mean() * 100\n",
    "    print(\"Percentage of NaN values in column\", column, \":\", percentage_nan_values)\n",
    "    if percentage_nan_values>50:\n",
    "        columns_to_drop.append(column)"
   ]
  },
  {
   "cell_type": "code",
   "execution_count": 8,
   "id": "c6c3ad61-3711-4b0f-ad00-4e5edd464fcf",
   "metadata": {},
   "outputs": [],
   "source": [
    "df_quan_model=df_quan_model.drop(columns=columns_to_drop) #dropping columns"
   ]
  },
  {
   "cell_type": "code",
   "execution_count": 11,
   "id": "b5dca3e1-768a-40a7-93b5-40d3314738d6",
   "metadata": {},
   "outputs": [],
   "source": [
    "nan_rows = df_quan_model.isna().mean(axis=1) * 100 #Creating pandas searies to show % of NaN values in each row"
   ]
  },
  {
   "cell_type": "code",
   "execution_count": 12,
   "id": "4f9ed8bb-383c-429e-a6e4-91185ca02fec",
   "metadata": {},
   "outputs": [],
   "source": [
    "threshold_for_column_drop = 55\n",
    "df_quan_model = df_quan_model.loc[nan_rows <= threshold_for_column_drop] #Deleting all rows that has more NaN % than threshold set"
   ]
  },
  {
   "cell_type": "code",
   "execution_count": 14,
   "id": "4cb359c2-e036-4764-ad70-e6850d97b0a2",
   "metadata": {},
   "outputs": [],
   "source": [
    "df_quan_model=df_quan_model.reset_index(drop=True) #Reseting ID of dataframe"
   ]
  },
  {
   "cell_type": "code",
   "execution_count": 16,
   "id": "b0741d11-f3bd-44e8-a029-e21d67f89a8b",
   "metadata": {},
   "outputs": [
    {
     "name": "stderr",
     "output_type": "stream",
     "text": [
      "C:\\Users\\jakub\\AppData\\Local\\Temp\\ipykernel_16672\\715339554.py:1: FutureWarning: Dropping of nuisance columns in DataFrame reductions (with 'numeric_only=None') is deprecated; in a future version this will raise TypeError.  Select only valid columns before calling the reduction.\n",
      "  df_quan_model_final = df_quan_model.fillna(df_quan_model.mean()) #Filling NaNs by mean values in each column\n"
     ]
    }
   ],
   "source": [
    "df_quan_model_final = df_quan_model.fillna(df_quan_model.mean()) #Filling NaNs by mean values in each column"
   ]
  },
  {
   "cell_type": "code",
   "execution_count": 17,
   "id": "af3fbee1-8134-43d0-88b3-cc9c6078b158",
   "metadata": {},
   "outputs": [
    {
     "data": {
      "text/plain": [
       "Stable      24\n",
       "Positive    19\n",
       "watch        4\n",
       "Name: Solvency_ratio_bucket, dtype: int64"
      ]
     },
     "execution_count": 17,
     "metadata": {},
     "output_type": "execute_result"
    }
   ],
   "source": [
    "X = df_quan_model_final[df_quan_model_final.columns.difference(['Solvency_ratio_bucket'])]\n",
    "y = df_quan_model_final['Solvency_ratio_bucket']\n",
    "\n",
    "y.value_counts()"
   ]
  },
  {
   "cell_type": "code",
   "execution_count": 19,
   "id": "6db1ed50-f17a-467a-9bd2-6b6bf77c19a2",
   "metadata": {},
   "outputs": [
    {
     "data": {
      "text/plain": [
       "Stable      9\n",
       "Positive    9\n",
       "watch       1\n",
       "Name: Solvency_ratio_bucket, dtype: int64"
      ]
     },
     "execution_count": 19,
     "metadata": {},
     "output_type": "execute_result"
    }
   ],
   "source": [
    "X_train, X_test, y_train, y_test = train_test_split(X, y, test_size=0.40, random_state=42)\n",
    "\n",
    "y_test.value_counts()"
   ]
  },
  {
   "cell_type": "code",
   "execution_count": 20,
   "id": "e6a56e16-18ec-4839-a2b7-4e4ae9ae063a",
   "metadata": {},
   "outputs": [
    {
     "data": {
      "text/plain": [
       "SVC(C=1, kernel='linear')"
      ]
     },
     "execution_count": 20,
     "metadata": {},
     "output_type": "execute_result"
    }
   ],
   "source": [
    "clf = SVC(kernel='linear', C=1)\n",
    "clf.fit(X_train, y_train)"
   ]
  },
  {
   "cell_type": "code",
   "execution_count": 21,
   "id": "9658605f-0bc3-4390-8b6a-8afcc3ee8eaa",
   "metadata": {},
   "outputs": [],
   "source": [
    "y_pred = clf.predict(X_test)"
   ]
  },
  {
   "cell_type": "code",
   "execution_count": 22,
   "id": "bdb87566-5c83-4b51-a9fe-27baf3a32d38",
   "metadata": {},
   "outputs": [
    {
     "name": "stdout",
     "output_type": "stream",
     "text": [
      "0.9473684210526315\n",
      "0.6333333333333333\n",
      "0.6666666666666666\n",
      "              precision    recall  f1-score   support\n",
      "\n",
      "    Positive       1.00      1.00      1.00         9\n",
      "      Stable       0.90      1.00      0.95         9\n",
      "       watch       0.00      0.00      0.00         1\n",
      "\n",
      "    accuracy                           0.95        19\n",
      "   macro avg       0.63      0.67      0.65        19\n",
      "weighted avg       0.90      0.95      0.92        19\n",
      "\n"
     ]
    },
    {
     "name": "stderr",
     "output_type": "stream",
     "text": [
      "c:\\users\\jakub\\desktop\\pythonprecinok\\nltk\\env\\nltk\\lib\\site-packages\\sklearn\\metrics\\_classification.py:1318: UndefinedMetricWarning: Precision is ill-defined and being set to 0.0 in labels with no predicted samples. Use `zero_division` parameter to control this behavior.\n",
      "  _warn_prf(average, modifier, msg_start, len(result))\n",
      "c:\\users\\jakub\\desktop\\pythonprecinok\\nltk\\env\\nltk\\lib\\site-packages\\sklearn\\metrics\\_classification.py:1318: UndefinedMetricWarning: Precision and F-score are ill-defined and being set to 0.0 in labels with no predicted samples. Use `zero_division` parameter to control this behavior.\n",
      "  _warn_prf(average, modifier, msg_start, len(result))\n",
      "c:\\users\\jakub\\desktop\\pythonprecinok\\nltk\\env\\nltk\\lib\\site-packages\\sklearn\\metrics\\_classification.py:1318: UndefinedMetricWarning: Precision and F-score are ill-defined and being set to 0.0 in labels with no predicted samples. Use `zero_division` parameter to control this behavior.\n",
      "  _warn_prf(average, modifier, msg_start, len(result))\n",
      "c:\\users\\jakub\\desktop\\pythonprecinok\\nltk\\env\\nltk\\lib\\site-packages\\sklearn\\metrics\\_classification.py:1318: UndefinedMetricWarning: Precision and F-score are ill-defined and being set to 0.0 in labels with no predicted samples. Use `zero_division` parameter to control this behavior.\n",
      "  _warn_prf(average, modifier, msg_start, len(result))\n",
      "c:\\users\\jakub\\desktop\\pythonprecinok\\nltk\\env\\nltk\\lib\\site-packages\\sklearn\\utils\\deprecation.py:87: FutureWarning: Function plot_confusion_matrix is deprecated; Function `plot_confusion_matrix` is deprecated in 1.0 and will be removed in 1.2. Use one of the class methods: ConfusionMatrixDisplay.from_predictions or ConfusionMatrixDisplay.from_estimator.\n",
      "  warnings.warn(msg, category=FutureWarning)\n"
     ]
    },
    {
     "data": {
      "text/plain": [
       "<sklearn.metrics._plot.confusion_matrix.ConfusionMatrixDisplay at 0x1eae7277eb0>"
      ]
     },
     "execution_count": 22,
     "metadata": {},
     "output_type": "execute_result"
    },
    {
     "data": {
      "image/png": "[encoded data removed]",
      "text/plain": [
       "<Figure size 432x288 with 2 Axes>"
      ]
     },
     "metadata": {
      "needs_background": "light"
     },
     "output_type": "display_data"
    }
   ],
   "source": [
    "plt.rcParams['figure.figsize'] = 10, 5\n",
    "\n",
    "print(accuracy_score(y_test, y_pred))\n",
    "print(precision_score(y_test, y_pred, average=\"macro\"))\n",
    "print(recall_score(y_test, y_pred, average=\"macro\"))\n",
    "\n",
    "print(classification_report(y_test,y_pred))\n",
    "plot_confusion_matrix(clf, X_test, y_test)"
   ]
  },
  {
   "cell_type": "code",
   "execution_count": null,
   "id": "4862dac4-a30c-47c6-8f77-6c483f42c47b",
   "metadata": {},
   "outputs": [],
   "source": []
  }
 ],
 "metadata": {
  "kernelspec": {
   "display_name": "Python 3 (ipykernel)",
   "language": "python",
   "name": "python3"
  },
  "language_info": {
   "codemirror_mode": {
    "name": "ipython",
    "version": 3
   },
   "file_extension": ".py",
   "mimetype": "text/x-python",
   "name": "python",
   "nbconvert_exporter": "python",
   "pygments_lexer": "ipython3",
   "version": "3.8.6"
  }
 },
 "nbformat": 4,
 "nbformat_minor": 5
}
