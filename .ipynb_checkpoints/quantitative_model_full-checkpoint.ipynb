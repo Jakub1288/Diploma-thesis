{
 "cells": [
  {
   "cell_type": "code",
   "execution_count": 1,
   "id": "f14bd172-268d-433a-984d-4a0d59ac1155",
   "metadata": {},
   "outputs": [],
   "source": [
    "import pandas as pd\n",
    "import numpy as np\n",
    "import matplotlib.pyplot as plt\n",
    "from sklearn.neighbors import KNeighborsClassifier\n",
    "from sklearn.model_selection import train_test_split\n",
    "from sklearn.svm import SVC \n",
    "from sklearn.metrics import f1_score, accuracy_score, f1_score, precision_score, recall_score, classification_report, confusion_matrix, plot_confusion_matrix\n"
   ]
  },
  {
   "cell_type": "code",
   "execution_count": 5,
   "id": "e80a8a91-db79-4e0c-98fe-5a1a78ae9434",
   "metadata": {},
   "outputs": [],
   "source": [
    "df_quan_model=pd.read_excel(\"Quantitative_features.xlsx\", sheet_name=3)"
   ]
  },
  {
   "cell_type": "code",
   "execution_count": 4,
   "id": "5d34665b-744f-4da0-bb7a-ff1a8fa4beea",
   "metadata": {},
   "outputs": [
    {
     "ename": "SyntaxError",
     "evalue": "unexpected EOF while parsing (2874615990.py, line 1)",
     "output_type": "error",
     "traceback": [
      "\u001b[1;36m  Input \u001b[1;32mIn [4]\u001b[1;36m\u001b[0m\n\u001b[1;33m    df_quan_model.append(pd.read_excel(\"Quantitative_features.xlsx\", sheet_name=2)\u001b[0m\n\u001b[1;37m                                                                                  ^\u001b[0m\n\u001b[1;31mSyntaxError\u001b[0m\u001b[1;31m:\u001b[0m unexpected EOF while parsing\n"
     ]
    }
   ],
   "source": [
    "df_quan_model.append(pd.read_excel(\"Quantitative_features.xlsx\", sheet_name=2)"
   ]
  },
  {
   "cell_type": "code",
   "execution_count": 8,
   "id": "6ffb9eba-0034-4440-9fd3-0b0de9d39cae",
   "metadata": {},
   "outputs": [],
   "source": [
    "df_quan_model=df_quan_model.drop(columns=['Solvency_ratio_from_next_year','Pojistovna_ID'])"
   ]
  },
  {
   "cell_type": "code",
   "execution_count": 9,
   "id": "69baeafa-84b1-44f9-81cb-2dfd64e252f7",
   "metadata": {},
   "outputs": [
    {
     "data": {
      "text/html": [
       "<div>\n",
       "<style scoped>\n",
       "    .dataframe tbody tr th:only-of-type {\n",
       "        vertical-align: middle;\n",
       "    }\n",
       "\n",
       "    .dataframe tbody tr th {\n",
       "        vertical-align: top;\n",
       "    }\n",
       "\n",
       "    .dataframe thead th {\n",
       "        text-align: right;\n",
       "    }\n",
       "</style>\n",
       "<table border=\"1\" class=\"dataframe\">\n",
       "  <thead>\n",
       "    <tr style=\"text-align: right;\">\n",
       "      <th></th>\n",
       "      <th>Indicator_80</th>\n",
       "      <th>Indicator_72</th>\n",
       "      <th>Indicator_74</th>\n",
       "      <th>Indicator_109</th>\n",
       "      <th>Indicator_65</th>\n",
       "      <th>Indicator_48</th>\n",
       "      <th>Indicator_118</th>\n",
       "      <th>Indicator_30</th>\n",
       "      <th>Solvency_ratio_bucket</th>\n",
       "    </tr>\n",
       "  </thead>\n",
       "  <tbody>\n",
       "    <tr>\n",
       "      <th>0</th>\n",
       "      <td>-0.104496</td>\n",
       "      <td>NaN</td>\n",
       "      <td>1.090426</td>\n",
       "      <td>0.483904</td>\n",
       "      <td>NaN</td>\n",
       "      <td>0.000000</td>\n",
       "      <td>NaN</td>\n",
       "      <td>NaN</td>\n",
       "      <td>stable</td>\n",
       "    </tr>\n",
       "    <tr>\n",
       "      <th>1</th>\n",
       "      <td>0.000000</td>\n",
       "      <td>NaN</td>\n",
       "      <td>2.309069</td>\n",
       "      <td>0.003164</td>\n",
       "      <td>0.000000</td>\n",
       "      <td>NaN</td>\n",
       "      <td>NaN</td>\n",
       "      <td>NaN</td>\n",
       "      <td>stable</td>\n",
       "    </tr>\n",
       "    <tr>\n",
       "      <th>2</th>\n",
       "      <td>0.254104</td>\n",
       "      <td>NaN</td>\n",
       "      <td>1.433961</td>\n",
       "      <td>0.165945</td>\n",
       "      <td>-0.234568</td>\n",
       "      <td>NaN</td>\n",
       "      <td>0.234346</td>\n",
       "      <td>NaN</td>\n",
       "      <td>stable</td>\n",
       "    </tr>\n",
       "    <tr>\n",
       "      <th>3</th>\n",
       "      <td>0.307780</td>\n",
       "      <td>0.0</td>\n",
       "      <td>1.869606</td>\n",
       "      <td>0.863469</td>\n",
       "      <td>0.000000</td>\n",
       "      <td>0.000000</td>\n",
       "      <td>NaN</td>\n",
       "      <td>NaN</td>\n",
       "      <td>stable</td>\n",
       "    </tr>\n",
       "    <tr>\n",
       "      <th>4</th>\n",
       "      <td>0.020483</td>\n",
       "      <td>0.0</td>\n",
       "      <td>4.996537</td>\n",
       "      <td>0.945640</td>\n",
       "      <td>0.000000</td>\n",
       "      <td>NaN</td>\n",
       "      <td>0.363380</td>\n",
       "      <td>NaN</td>\n",
       "      <td>positive</td>\n",
       "    </tr>\n",
       "    <tr>\n",
       "      <th>...</th>\n",
       "      <td>...</td>\n",
       "      <td>...</td>\n",
       "      <td>...</td>\n",
       "      <td>...</td>\n",
       "      <td>...</td>\n",
       "      <td>...</td>\n",
       "      <td>...</td>\n",
       "      <td>...</td>\n",
       "      <td>...</td>\n",
       "    </tr>\n",
       "    <tr>\n",
       "      <th>65</th>\n",
       "      <td>-0.147290</td>\n",
       "      <td>0.0</td>\n",
       "      <td>2.041805</td>\n",
       "      <td>0.012611</td>\n",
       "      <td>-0.061967</td>\n",
       "      <td>0.280762</td>\n",
       "      <td>0.143868</td>\n",
       "      <td>-0.000658</td>\n",
       "      <td>stable</td>\n",
       "    </tr>\n",
       "    <tr>\n",
       "      <th>66</th>\n",
       "      <td>0.639396</td>\n",
       "      <td>NaN</td>\n",
       "      <td>1.828044</td>\n",
       "      <td>0.123208</td>\n",
       "      <td>-0.208921</td>\n",
       "      <td>0.233245</td>\n",
       "      <td>0.002035</td>\n",
       "      <td>0.000908</td>\n",
       "      <td>stable</td>\n",
       "    </tr>\n",
       "    <tr>\n",
       "      <th>67</th>\n",
       "      <td>NaN</td>\n",
       "      <td>NaN</td>\n",
       "      <td>3.684424</td>\n",
       "      <td>0.266265</td>\n",
       "      <td>-0.016666</td>\n",
       "      <td>0.151981</td>\n",
       "      <td>0.104583</td>\n",
       "      <td>NaN</td>\n",
       "      <td>positive</td>\n",
       "    </tr>\n",
       "    <tr>\n",
       "      <th>68</th>\n",
       "      <td>0.281621</td>\n",
       "      <td>NaN</td>\n",
       "      <td>1.747390</td>\n",
       "      <td>0.070252</td>\n",
       "      <td>-0.156071</td>\n",
       "      <td>0.000000</td>\n",
       "      <td>NaN</td>\n",
       "      <td>0.083196</td>\n",
       "      <td>positive</td>\n",
       "    </tr>\n",
       "    <tr>\n",
       "      <th>69</th>\n",
       "      <td>0.663540</td>\n",
       "      <td>0.0</td>\n",
       "      <td>2.229999</td>\n",
       "      <td>0.151241</td>\n",
       "      <td>NaN</td>\n",
       "      <td>0.175805</td>\n",
       "      <td>NaN</td>\n",
       "      <td>0.363180</td>\n",
       "      <td>positive</td>\n",
       "    </tr>\n",
       "  </tbody>\n",
       "</table>\n",
       "<p>70 rows × 9 columns</p>\n",
       "</div>"
      ],
      "text/plain": [
       "    Indicator_80  Indicator_72  Indicator_74  Indicator_109  Indicator_65  \\\n",
       "0      -0.104496           NaN      1.090426       0.483904           NaN   \n",
       "1       0.000000           NaN      2.309069       0.003164      0.000000   \n",
       "2       0.254104           NaN      1.433961       0.165945     -0.234568   \n",
       "3       0.307780           0.0      1.869606       0.863469      0.000000   \n",
       "4       0.020483           0.0      4.996537       0.945640      0.000000   \n",
       "..           ...           ...           ...            ...           ...   \n",
       "65     -0.147290           0.0      2.041805       0.012611     -0.061967   \n",
       "66      0.639396           NaN      1.828044       0.123208     -0.208921   \n",
       "67           NaN           NaN      3.684424       0.266265     -0.016666   \n",
       "68      0.281621           NaN      1.747390       0.070252     -0.156071   \n",
       "69      0.663540           0.0      2.229999       0.151241           NaN   \n",
       "\n",
       "    Indicator_48  Indicator_118  Indicator_30 Solvency_ratio_bucket  \n",
       "0       0.000000            NaN           NaN                stable  \n",
       "1            NaN            NaN           NaN                stable  \n",
       "2            NaN       0.234346           NaN                stable  \n",
       "3       0.000000            NaN           NaN                stable  \n",
       "4            NaN       0.363380           NaN              positive  \n",
       "..           ...            ...           ...                   ...  \n",
       "65      0.280762       0.143868     -0.000658                stable  \n",
       "66      0.233245       0.002035      0.000908                stable  \n",
       "67      0.151981       0.104583           NaN              positive  \n",
       "68      0.000000            NaN      0.083196              positive  \n",
       "69      0.175805            NaN      0.363180              positive  \n",
       "\n",
       "[70 rows x 9 columns]"
      ]
     },
     "execution_count": 9,
     "metadata": {},
     "output_type": "execute_result"
    }
   ],
   "source": [
    "df_quan_model"
   ]
  },
  {
   "cell_type": "code",
   "execution_count": 10,
   "id": "05ce5090-ffb2-4d4e-b0ae-a9399066a677",
   "metadata": {},
   "outputs": [
    {
     "name": "stdout",
     "output_type": "stream",
     "text": [
      "Percentage of NaN values in column Indicator_80 : 17.142857142857142\n",
      "Percentage of NaN values in column Indicator_72 : 48.57142857142857\n",
      "Percentage of NaN values in column Indicator_74 : 0.0\n",
      "Percentage of NaN values in column Indicator_109 : 0.0\n",
      "Percentage of NaN values in column Indicator_65 : 40.0\n",
      "Percentage of NaN values in column Indicator_48 : 42.857142857142854\n",
      "Percentage of NaN values in column Indicator_118 : 67.14285714285714\n",
      "Percentage of NaN values in column Indicator_30 : 41.42857142857143\n",
      "Percentage of NaN values in column Solvency_ratio_bucket : 0.0\n"
     ]
    }
   ],
   "source": [
    "columns_to_drop=[] #Seting column names to drop based on NaN percentage into list\n",
    "for column in df_quan_model.columns:\n",
    "    percentage_nan_values = df_quan_model[column].isna().mean() * 100\n",
    "    print(\"Percentage of NaN values in column\", column, \":\", percentage_nan_values)\n",
    "    if percentage_nan_values>40:\n",
    "        columns_to_drop.append(column)"
   ]
  },
  {
   "cell_type": "code",
   "execution_count": 11,
   "id": "20ee8950-de1d-4f33-9742-f98253f3776e",
   "metadata": {},
   "outputs": [
    {
     "data": {
      "text/plain": [
       "['Indicator_72', 'Indicator_48', 'Indicator_118', 'Indicator_30']"
      ]
     },
     "execution_count": 11,
     "metadata": {},
     "output_type": "execute_result"
    }
   ],
   "source": [
    "columns_to_drop"
   ]
  },
  {
   "cell_type": "code",
   "execution_count": 12,
   "id": "ca83b67f-d4f6-4010-bbb8-a3c9e631ecbf",
   "metadata": {},
   "outputs": [],
   "source": [
    "df_quan_model=df_quan_model.drop(columns=columns_to_drop) #dropping columns"
   ]
  },
  {
   "cell_type": "code",
   "execution_count": 13,
   "id": "e09017f0-82a7-45df-8c11-63c0bd1b009e",
   "metadata": {},
   "outputs": [
    {
     "data": {
      "text/html": [
       "<div>\n",
       "<style scoped>\n",
       "    .dataframe tbody tr th:only-of-type {\n",
       "        vertical-align: middle;\n",
       "    }\n",
       "\n",
       "    .dataframe tbody tr th {\n",
       "        vertical-align: top;\n",
       "    }\n",
       "\n",
       "    .dataframe thead th {\n",
       "        text-align: right;\n",
       "    }\n",
       "</style>\n",
       "<table border=\"1\" class=\"dataframe\">\n",
       "  <thead>\n",
       "    <tr style=\"text-align: right;\">\n",
       "      <th></th>\n",
       "      <th>Indicator_80</th>\n",
       "      <th>Indicator_74</th>\n",
       "      <th>Indicator_109</th>\n",
       "      <th>Indicator_65</th>\n",
       "      <th>Solvency_ratio_bucket</th>\n",
       "    </tr>\n",
       "  </thead>\n",
       "  <tbody>\n",
       "    <tr>\n",
       "      <th>0</th>\n",
       "      <td>-0.104496</td>\n",
       "      <td>1.090426</td>\n",
       "      <td>0.483904</td>\n",
       "      <td>NaN</td>\n",
       "      <td>stable</td>\n",
       "    </tr>\n",
       "    <tr>\n",
       "      <th>1</th>\n",
       "      <td>0.000000</td>\n",
       "      <td>2.309069</td>\n",
       "      <td>0.003164</td>\n",
       "      <td>0.000000</td>\n",
       "      <td>stable</td>\n",
       "    </tr>\n",
       "    <tr>\n",
       "      <th>2</th>\n",
       "      <td>0.254104</td>\n",
       "      <td>1.433961</td>\n",
       "      <td>0.165945</td>\n",
       "      <td>-0.234568</td>\n",
       "      <td>stable</td>\n",
       "    </tr>\n",
       "    <tr>\n",
       "      <th>3</th>\n",
       "      <td>0.307780</td>\n",
       "      <td>1.869606</td>\n",
       "      <td>0.863469</td>\n",
       "      <td>0.000000</td>\n",
       "      <td>stable</td>\n",
       "    </tr>\n",
       "    <tr>\n",
       "      <th>4</th>\n",
       "      <td>0.020483</td>\n",
       "      <td>4.996537</td>\n",
       "      <td>0.945640</td>\n",
       "      <td>0.000000</td>\n",
       "      <td>positive</td>\n",
       "    </tr>\n",
       "    <tr>\n",
       "      <th>...</th>\n",
       "      <td>...</td>\n",
       "      <td>...</td>\n",
       "      <td>...</td>\n",
       "      <td>...</td>\n",
       "      <td>...</td>\n",
       "    </tr>\n",
       "    <tr>\n",
       "      <th>65</th>\n",
       "      <td>-0.147290</td>\n",
       "      <td>2.041805</td>\n",
       "      <td>0.012611</td>\n",
       "      <td>-0.061967</td>\n",
       "      <td>stable</td>\n",
       "    </tr>\n",
       "    <tr>\n",
       "      <th>66</th>\n",
       "      <td>0.639396</td>\n",
       "      <td>1.828044</td>\n",
       "      <td>0.123208</td>\n",
       "      <td>-0.208921</td>\n",
       "      <td>stable</td>\n",
       "    </tr>\n",
       "    <tr>\n",
       "      <th>67</th>\n",
       "      <td>NaN</td>\n",
       "      <td>3.684424</td>\n",
       "      <td>0.266265</td>\n",
       "      <td>-0.016666</td>\n",
       "      <td>positive</td>\n",
       "    </tr>\n",
       "    <tr>\n",
       "      <th>68</th>\n",
       "      <td>0.281621</td>\n",
       "      <td>1.747390</td>\n",
       "      <td>0.070252</td>\n",
       "      <td>-0.156071</td>\n",
       "      <td>positive</td>\n",
       "    </tr>\n",
       "    <tr>\n",
       "      <th>69</th>\n",
       "      <td>0.663540</td>\n",
       "      <td>2.229999</td>\n",
       "      <td>0.151241</td>\n",
       "      <td>NaN</td>\n",
       "      <td>positive</td>\n",
       "    </tr>\n",
       "  </tbody>\n",
       "</table>\n",
       "<p>70 rows × 5 columns</p>\n",
       "</div>"
      ],
      "text/plain": [
       "    Indicator_80  Indicator_74  Indicator_109  Indicator_65  \\\n",
       "0      -0.104496      1.090426       0.483904           NaN   \n",
       "1       0.000000      2.309069       0.003164      0.000000   \n",
       "2       0.254104      1.433961       0.165945     -0.234568   \n",
       "3       0.307780      1.869606       0.863469      0.000000   \n",
       "4       0.020483      4.996537       0.945640      0.000000   \n",
       "..           ...           ...            ...           ...   \n",
       "65     -0.147290      2.041805       0.012611     -0.061967   \n",
       "66      0.639396      1.828044       0.123208     -0.208921   \n",
       "67           NaN      3.684424       0.266265     -0.016666   \n",
       "68      0.281621      1.747390       0.070252     -0.156071   \n",
       "69      0.663540      2.229999       0.151241           NaN   \n",
       "\n",
       "   Solvency_ratio_bucket  \n",
       "0                 stable  \n",
       "1                 stable  \n",
       "2                 stable  \n",
       "3                 stable  \n",
       "4               positive  \n",
       "..                   ...  \n",
       "65                stable  \n",
       "66                stable  \n",
       "67              positive  \n",
       "68              positive  \n",
       "69              positive  \n",
       "\n",
       "[70 rows x 5 columns]"
      ]
     },
     "execution_count": 13,
     "metadata": {},
     "output_type": "execute_result"
    }
   ],
   "source": [
    "df_quan_model"
   ]
  },
  {
   "cell_type": "code",
   "execution_count": 14,
   "id": "01ef98ec-e9b0-44f8-83c5-49f926d9f5f2",
   "metadata": {},
   "outputs": [],
   "source": [
    "nan_rows = df_quan_model.isna().mean(axis=1) * 100 #Creating pandas searies to show % of NaN values in each row"
   ]
  },
  {
   "cell_type": "code",
   "execution_count": 15,
   "id": "33fc7a49-e1df-4cb0-a33d-523c800fd0df",
   "metadata": {},
   "outputs": [
    {
     "data": {
      "text/plain": [
       "0     20.0\n",
       "1      0.0\n",
       "2      0.0\n",
       "3      0.0\n",
       "4      0.0\n",
       "      ... \n",
       "65     0.0\n",
       "66     0.0\n",
       "67    20.0\n",
       "68     0.0\n",
       "69    20.0\n",
       "Length: 70, dtype: float64"
      ]
     },
     "execution_count": 15,
     "metadata": {},
     "output_type": "execute_result"
    }
   ],
   "source": [
    "nan_rows"
   ]
  },
  {
   "cell_type": "code",
   "execution_count": 16,
   "id": "5d904a6b-9b28-4f03-b794-cbd5bcc40728",
   "metadata": {},
   "outputs": [],
   "source": [
    "threshold_for_column_drop = 40\n",
    "df_quan_model = df_quan_model.loc[nan_rows <= threshold_for_column_drop] #Deleting all rows that has more NaN % than threshold set"
   ]
  },
  {
   "cell_type": "code",
   "execution_count": 17,
   "id": "0d8e8082-15df-49db-8b78-f04d71dc53ce",
   "metadata": {},
   "outputs": [],
   "source": [
    "df_quan_model=df_quan_model.reset_index(drop=True) #Reseting ID of dataframe"
   ]
  },
  {
   "cell_type": "code",
   "execution_count": 18,
   "id": "02a6acc8-b284-4dbc-bcf1-3d80103a499e",
   "metadata": {},
   "outputs": [
    {
     "data": {
      "text/html": [
       "<div>\n",
       "<style scoped>\n",
       "    .dataframe tbody tr th:only-of-type {\n",
       "        vertical-align: middle;\n",
       "    }\n",
       "\n",
       "    .dataframe tbody tr th {\n",
       "        vertical-align: top;\n",
       "    }\n",
       "\n",
       "    .dataframe thead th {\n",
       "        text-align: right;\n",
       "    }\n",
       "</style>\n",
       "<table border=\"1\" class=\"dataframe\">\n",
       "  <thead>\n",
       "    <tr style=\"text-align: right;\">\n",
       "      <th></th>\n",
       "      <th>Indicator_80</th>\n",
       "      <th>Indicator_74</th>\n",
       "      <th>Indicator_109</th>\n",
       "      <th>Indicator_65</th>\n",
       "      <th>Solvency_ratio_bucket</th>\n",
       "    </tr>\n",
       "  </thead>\n",
       "  <tbody>\n",
       "    <tr>\n",
       "      <th>0</th>\n",
       "      <td>-0.104496</td>\n",
       "      <td>1.090426</td>\n",
       "      <td>0.483904</td>\n",
       "      <td>NaN</td>\n",
       "      <td>stable</td>\n",
       "    </tr>\n",
       "    <tr>\n",
       "      <th>1</th>\n",
       "      <td>0.000000</td>\n",
       "      <td>2.309069</td>\n",
       "      <td>0.003164</td>\n",
       "      <td>0.000000</td>\n",
       "      <td>stable</td>\n",
       "    </tr>\n",
       "    <tr>\n",
       "      <th>2</th>\n",
       "      <td>0.254104</td>\n",
       "      <td>1.433961</td>\n",
       "      <td>0.165945</td>\n",
       "      <td>-0.234568</td>\n",
       "      <td>stable</td>\n",
       "    </tr>\n",
       "    <tr>\n",
       "      <th>3</th>\n",
       "      <td>0.307780</td>\n",
       "      <td>1.869606</td>\n",
       "      <td>0.863469</td>\n",
       "      <td>0.000000</td>\n",
       "      <td>stable</td>\n",
       "    </tr>\n",
       "    <tr>\n",
       "      <th>4</th>\n",
       "      <td>0.020483</td>\n",
       "      <td>4.996537</td>\n",
       "      <td>0.945640</td>\n",
       "      <td>0.000000</td>\n",
       "      <td>positive</td>\n",
       "    </tr>\n",
       "    <tr>\n",
       "      <th>...</th>\n",
       "      <td>...</td>\n",
       "      <td>...</td>\n",
       "      <td>...</td>\n",
       "      <td>...</td>\n",
       "      <td>...</td>\n",
       "    </tr>\n",
       "    <tr>\n",
       "      <th>65</th>\n",
       "      <td>-0.147290</td>\n",
       "      <td>2.041805</td>\n",
       "      <td>0.012611</td>\n",
       "      <td>-0.061967</td>\n",
       "      <td>stable</td>\n",
       "    </tr>\n",
       "    <tr>\n",
       "      <th>66</th>\n",
       "      <td>0.639396</td>\n",
       "      <td>1.828044</td>\n",
       "      <td>0.123208</td>\n",
       "      <td>-0.208921</td>\n",
       "      <td>stable</td>\n",
       "    </tr>\n",
       "    <tr>\n",
       "      <th>67</th>\n",
       "      <td>NaN</td>\n",
       "      <td>3.684424</td>\n",
       "      <td>0.266265</td>\n",
       "      <td>-0.016666</td>\n",
       "      <td>positive</td>\n",
       "    </tr>\n",
       "    <tr>\n",
       "      <th>68</th>\n",
       "      <td>0.281621</td>\n",
       "      <td>1.747390</td>\n",
       "      <td>0.070252</td>\n",
       "      <td>-0.156071</td>\n",
       "      <td>positive</td>\n",
       "    </tr>\n",
       "    <tr>\n",
       "      <th>69</th>\n",
       "      <td>0.663540</td>\n",
       "      <td>2.229999</td>\n",
       "      <td>0.151241</td>\n",
       "      <td>NaN</td>\n",
       "      <td>positive</td>\n",
       "    </tr>\n",
       "  </tbody>\n",
       "</table>\n",
       "<p>70 rows × 5 columns</p>\n",
       "</div>"
      ],
      "text/plain": [
       "    Indicator_80  Indicator_74  Indicator_109  Indicator_65  \\\n",
       "0      -0.104496      1.090426       0.483904           NaN   \n",
       "1       0.000000      2.309069       0.003164      0.000000   \n",
       "2       0.254104      1.433961       0.165945     -0.234568   \n",
       "3       0.307780      1.869606       0.863469      0.000000   \n",
       "4       0.020483      4.996537       0.945640      0.000000   \n",
       "..           ...           ...            ...           ...   \n",
       "65     -0.147290      2.041805       0.012611     -0.061967   \n",
       "66      0.639396      1.828044       0.123208     -0.208921   \n",
       "67           NaN      3.684424       0.266265     -0.016666   \n",
       "68      0.281621      1.747390       0.070252     -0.156071   \n",
       "69      0.663540      2.229999       0.151241           NaN   \n",
       "\n",
       "   Solvency_ratio_bucket  \n",
       "0                 stable  \n",
       "1                 stable  \n",
       "2                 stable  \n",
       "3                 stable  \n",
       "4               positive  \n",
       "..                   ...  \n",
       "65                stable  \n",
       "66                stable  \n",
       "67              positive  \n",
       "68              positive  \n",
       "69              positive  \n",
       "\n",
       "[70 rows x 5 columns]"
      ]
     },
     "execution_count": 18,
     "metadata": {},
     "output_type": "execute_result"
    }
   ],
   "source": [
    "df_quan_model"
   ]
  },
  {
   "cell_type": "code",
   "execution_count": 19,
   "id": "2cfbdb69-04a4-44a6-96e2-0b6c0e62e76c",
   "metadata": {},
   "outputs": [
    {
     "name": "stderr",
     "output_type": "stream",
     "text": [
      "C:\\Users\\jakub\\AppData\\Local\\Temp\\ipykernel_16032\\715339554.py:1: FutureWarning: Dropping of nuisance columns in DataFrame reductions (with 'numeric_only=None') is deprecated; in a future version this will raise TypeError.  Select only valid columns before calling the reduction.\n",
      "  df_quan_model_final = df_quan_model.fillna(df_quan_model.mean()) #Filling NaNs by mean values in each column\n"
     ]
    }
   ],
   "source": [
    "df_quan_model_final = df_quan_model.fillna(df_quan_model.mean()) #Filling NaNs by mean values in each column"
   ]
  },
  {
   "cell_type": "code",
   "execution_count": 20,
   "id": "2e6975bc-f8bd-43d3-b786-6bced4a86e28",
   "metadata": {},
   "outputs": [
    {
     "data": {
      "text/html": [
       "<div>\n",
       "<style scoped>\n",
       "    .dataframe tbody tr th:only-of-type {\n",
       "        vertical-align: middle;\n",
       "    }\n",
       "\n",
       "    .dataframe tbody tr th {\n",
       "        vertical-align: top;\n",
       "    }\n",
       "\n",
       "    .dataframe thead th {\n",
       "        text-align: right;\n",
       "    }\n",
       "</style>\n",
       "<table border=\"1\" class=\"dataframe\">\n",
       "  <thead>\n",
       "    <tr style=\"text-align: right;\">\n",
       "      <th></th>\n",
       "      <th>Indicator_80</th>\n",
       "      <th>Indicator_74</th>\n",
       "      <th>Indicator_109</th>\n",
       "      <th>Indicator_65</th>\n",
       "      <th>Solvency_ratio_bucket</th>\n",
       "    </tr>\n",
       "  </thead>\n",
       "  <tbody>\n",
       "    <tr>\n",
       "      <th>0</th>\n",
       "      <td>-0.104496</td>\n",
       "      <td>1.090426</td>\n",
       "      <td>0.483904</td>\n",
       "      <td>-0.072778</td>\n",
       "      <td>stable</td>\n",
       "    </tr>\n",
       "    <tr>\n",
       "      <th>1</th>\n",
       "      <td>0.000000</td>\n",
       "      <td>2.309069</td>\n",
       "      <td>0.003164</td>\n",
       "      <td>0.000000</td>\n",
       "      <td>stable</td>\n",
       "    </tr>\n",
       "    <tr>\n",
       "      <th>2</th>\n",
       "      <td>0.254104</td>\n",
       "      <td>1.433961</td>\n",
       "      <td>0.165945</td>\n",
       "      <td>-0.234568</td>\n",
       "      <td>stable</td>\n",
       "    </tr>\n",
       "    <tr>\n",
       "      <th>3</th>\n",
       "      <td>0.307780</td>\n",
       "      <td>1.869606</td>\n",
       "      <td>0.863469</td>\n",
       "      <td>0.000000</td>\n",
       "      <td>stable</td>\n",
       "    </tr>\n",
       "    <tr>\n",
       "      <th>4</th>\n",
       "      <td>0.020483</td>\n",
       "      <td>4.996537</td>\n",
       "      <td>0.945640</td>\n",
       "      <td>0.000000</td>\n",
       "      <td>positive</td>\n",
       "    </tr>\n",
       "    <tr>\n",
       "      <th>...</th>\n",
       "      <td>...</td>\n",
       "      <td>...</td>\n",
       "      <td>...</td>\n",
       "      <td>...</td>\n",
       "      <td>...</td>\n",
       "    </tr>\n",
       "    <tr>\n",
       "      <th>65</th>\n",
       "      <td>-0.147290</td>\n",
       "      <td>2.041805</td>\n",
       "      <td>0.012611</td>\n",
       "      <td>-0.061967</td>\n",
       "      <td>stable</td>\n",
       "    </tr>\n",
       "    <tr>\n",
       "      <th>66</th>\n",
       "      <td>0.639396</td>\n",
       "      <td>1.828044</td>\n",
       "      <td>0.123208</td>\n",
       "      <td>-0.208921</td>\n",
       "      <td>stable</td>\n",
       "    </tr>\n",
       "    <tr>\n",
       "      <th>67</th>\n",
       "      <td>0.208130</td>\n",
       "      <td>3.684424</td>\n",
       "      <td>0.266265</td>\n",
       "      <td>-0.016666</td>\n",
       "      <td>positive</td>\n",
       "    </tr>\n",
       "    <tr>\n",
       "      <th>68</th>\n",
       "      <td>0.281621</td>\n",
       "      <td>1.747390</td>\n",
       "      <td>0.070252</td>\n",
       "      <td>-0.156071</td>\n",
       "      <td>positive</td>\n",
       "    </tr>\n",
       "    <tr>\n",
       "      <th>69</th>\n",
       "      <td>0.663540</td>\n",
       "      <td>2.229999</td>\n",
       "      <td>0.151241</td>\n",
       "      <td>-0.072778</td>\n",
       "      <td>positive</td>\n",
       "    </tr>\n",
       "  </tbody>\n",
       "</table>\n",
       "<p>70 rows × 5 columns</p>\n",
       "</div>"
      ],
      "text/plain": [
       "    Indicator_80  Indicator_74  Indicator_109  Indicator_65  \\\n",
       "0      -0.104496      1.090426       0.483904     -0.072778   \n",
       "1       0.000000      2.309069       0.003164      0.000000   \n",
       "2       0.254104      1.433961       0.165945     -0.234568   \n",
       "3       0.307780      1.869606       0.863469      0.000000   \n",
       "4       0.020483      4.996537       0.945640      0.000000   \n",
       "..           ...           ...            ...           ...   \n",
       "65     -0.147290      2.041805       0.012611     -0.061967   \n",
       "66      0.639396      1.828044       0.123208     -0.208921   \n",
       "67      0.208130      3.684424       0.266265     -0.016666   \n",
       "68      0.281621      1.747390       0.070252     -0.156071   \n",
       "69      0.663540      2.229999       0.151241     -0.072778   \n",
       "\n",
       "   Solvency_ratio_bucket  \n",
       "0                 stable  \n",
       "1                 stable  \n",
       "2                 stable  \n",
       "3                 stable  \n",
       "4               positive  \n",
       "..                   ...  \n",
       "65                stable  \n",
       "66                stable  \n",
       "67              positive  \n",
       "68              positive  \n",
       "69              positive  \n",
       "\n",
       "[70 rows x 5 columns]"
      ]
     },
     "execution_count": 20,
     "metadata": {},
     "output_type": "execute_result"
    }
   ],
   "source": [
    "df_quan_model_final"
   ]
  },
  {
   "cell_type": "code",
   "execution_count": 21,
   "id": "903d072b-a9c2-42b5-90b7-3c81d65e80df",
   "metadata": {},
   "outputs": [
    {
     "data": {
      "text/plain": [
       "stable      36\n",
       "positive    34\n",
       "Name: Solvency_ratio_bucket, dtype: int64"
      ]
     },
     "execution_count": 21,
     "metadata": {},
     "output_type": "execute_result"
    }
   ],
   "source": [
    "X = df_quan_model_final[df_quan_model_final.columns.difference(['Solvency_ratio_bucket'])]\n",
    "y = df_quan_model_final['Solvency_ratio_bucket']\n",
    "\n",
    "y.value_counts()"
   ]
  },
  {
   "cell_type": "code",
   "execution_count": 22,
   "id": "de4b0cb7-2063-4349-a0cb-693a4b270705",
   "metadata": {},
   "outputs": [
    {
     "data": {
      "text/plain": [
       "positive    15\n",
       "stable      13\n",
       "Name: Solvency_ratio_bucket, dtype: int64"
      ]
     },
     "execution_count": 22,
     "metadata": {},
     "output_type": "execute_result"
    }
   ],
   "source": [
    "X_train, X_test, y_train, y_test = train_test_split(X, y, test_size=0.40, random_state=42)\n",
    "\n",
    "y_test.value_counts()"
   ]
  },
  {
   "cell_type": "code",
   "execution_count": 29,
   "id": "5aab18c5-716c-4800-b0c5-6daf2d49a17c",
   "metadata": {},
   "outputs": [
    {
     "data": {
      "text/plain": [
       "SVC(C=1, kernel='linear')"
      ]
     },
     "execution_count": 29,
     "metadata": {},
     "output_type": "execute_result"
    }
   ],
   "source": [
    "clf = SVC(kernel='linear', C=1)\n",
    "clf.fit(X_train, y_train)"
   ]
  },
  {
   "cell_type": "code",
   "execution_count": 30,
   "id": "c52fe9ad-3430-4a81-ac64-77370fe2f332",
   "metadata": {},
   "outputs": [],
   "source": [
    "y_pred = clf.predict(X_test)\n"
   ]
  },
  {
   "cell_type": "code",
   "execution_count": 31,
   "id": "e428d679-2c08-4897-9520-fb8ec96d2fc7",
   "metadata": {},
   "outputs": [
    {
     "name": "stdout",
     "output_type": "stream",
     "text": [
      "0.8571428571428571\n",
      "0.8663101604278074\n",
      "0.8512820512820514\n",
      "              precision    recall  f1-score   support\n",
      "\n",
      "    positive       0.82      0.93      0.87        15\n",
      "      stable       0.91      0.77      0.83        13\n",
      "\n",
      "    accuracy                           0.86        28\n",
      "   macro avg       0.87      0.85      0.85        28\n",
      "weighted avg       0.86      0.86      0.86        28\n",
      "\n"
     ]
    },
    {
     "name": "stderr",
     "output_type": "stream",
     "text": [
      "c:\\users\\jakub\\desktop\\pythonprecinok\\nltk\\env\\nltk\\lib\\site-packages\\sklearn\\utils\\deprecation.py:87: FutureWarning: Function plot_confusion_matrix is deprecated; Function `plot_confusion_matrix` is deprecated in 1.0 and will be removed in 1.2. Use one of the class methods: ConfusionMatrixDisplay.from_predictions or ConfusionMatrixDisplay.from_estimator.\n",
      "  warnings.warn(msg, category=FutureWarning)\n"
     ]
    },
    {
     "data": {
      "text/plain": [
       "<sklearn.metrics._plot.confusion_matrix.ConfusionMatrixDisplay at 0x22a70a26490>"
      ]
     },
     "execution_count": 31,
     "metadata": {},
     "output_type": "execute_result"
    },
    {
     "data": {
      "image/png": "[encoded data removed]",
      "text/plain": [
       "<Figure size 720x360 with 2 Axes>"
      ]
     },
     "metadata": {
      "needs_background": "light"
     },
     "output_type": "display_data"
    }
   ],
   "source": [
    "plt.rcParams['figure.figsize'] = 10, 5\n",
    "\n",
    "print(accuracy_score(y_test, y_pred))\n",
    "print(precision_score(y_test, y_pred, average=\"macro\"))\n",
    "print(recall_score(y_test, y_pred, average=\"macro\"))\n",
    "\n",
    "print(classification_report(y_test,y_pred))\n",
    "plot_confusion_matrix(clf, X_test, y_test)"
   ]
  },
  {
   "cell_type": "code",
   "execution_count": 26,
   "id": "4872d18d-f66f-4212-a21f-c7ccf221e9b1",
   "metadata": {},
   "outputs": [],
   "source": [
    "from sklearn.linear_model import LogisticRegression\n",
    "lr = LogisticRegression()"
   ]
  },
  {
   "cell_type": "code",
   "execution_count": 27,
   "id": "5b443fac-8bc1-46bb-9d9b-ac6fc1d30662",
   "metadata": {},
   "outputs": [],
   "source": [
    "lr.fit(X_train, y_train)\n",
    "y_pred = lr.predict(X_test)"
   ]
  },
  {
   "cell_type": "code",
   "execution_count": null,
   "id": "76688b42-00a8-456e-a43a-5f8059c285d9",
   "metadata": {},
   "outputs": [],
   "source": []
  }
 ],
 "metadata": {
  "kernelspec": {
   "display_name": "Python 3 (ipykernel)",
   "language": "python",
   "name": "python3"
  },
  "language_info": {
   "codemirror_mode": {
    "name": "ipython",
    "version": 3
   },
   "file_extension": ".py",
   "mimetype": "text/x-python",
   "name": "python",
   "nbconvert_exporter": "python",
   "pygments_lexer": "ipython3",
   "version": "3.8.6"
  }
 },
 "nbformat": 4,
 "nbformat_minor": 5
}
